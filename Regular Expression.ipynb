{
 "cells": [
  {
   "cell_type": "code",
   "execution_count": null,
   "id": "6f5e6e8b-09a7-4755-a44d-8c7d39753e58",
   "metadata": {},
   "outputs": [],
   "source": [
    "##1- Write a RegEx pattern in python program to check that a string contains only a certain set of\n",
    "##characters (in this case a-z, A-Z and 0-9)."
   ]
  },
  {
   "cell_type": "code",
   "execution_count": 1,
   "id": "353ee4aa-3e10-4f10-b362-e12d3c0a7077",
   "metadata": {},
   "outputs": [
    {
     "name": "stdout",
     "output_type": "stream",
     "text": [
      "True\n",
      "False\n"
     ]
    }
   ],
   "source": [
    "import re\n",
    "def is_allowed_specific_char(string):\n",
    "    charRe = re.compile(r'[^a-zA-Z0-9]')\n",
    "    string = charRe.search(string)\n",
    "    return not bool(string)\n",
    "\n",
    "print(is_allowed_specific_char(\"ABCDEFabcdef123450\")) \n",
    "print(is_allowed_specific_char(\"*&%@#!}{\"))\n",
    "\n"
   ]
  },
  {
   "cell_type": "code",
   "execution_count": null,
   "id": "9eb34d84-ec3d-44f5-8e5a-f3de18ab9e50",
   "metadata": {},
   "outputs": [],
   "source": [
    "##2- Write a RegEx pattern that matches a string that has an a followed by zero or more 'b's"
   ]
  },
  {
   "cell_type": "code",
   "execution_count": 2,
   "id": "06f2302d-7b1d-4d13-b016-1f3fcc31dfda",
   "metadata": {},
   "outputs": [
    {
     "name": "stdout",
     "output_type": "stream",
     "text": [
      "Not matched!\n",
      "Not matched!\n",
      "Found a match!\n",
      "Found a match!\n",
      "Found a match!\n"
     ]
    }
   ],
   "source": [
    "import re\n",
    "def text_match(text):\n",
    "        patterns = '^a(b*)$'\n",
    "        if re.search(patterns,  text):\n",
    "                return 'Found a match!'\n",
    "        else:\n",
    "                return('Not matched!')\n",
    "print(text_match(\"ac\"))\n",
    "print(text_match(\"abc\"))\n",
    "print(text_match(\"a\"))\n",
    "print(text_match(\"ab\"))\n",
    "print(text_match(\"abb\"))\n"
   ]
  },
  {
   "cell_type": "code",
   "execution_count": null,
   "id": "f788d4da-e322-4503-b0f3-f35f8e686543",
   "metadata": {},
   "outputs": [],
   "source": [
    "##3- Write a RegEx pattern that matches a string that has an a followed by one or more'b's"
   ]
  },
  {
   "cell_type": "code",
   "execution_count": 3,
   "id": "a4e80715-e5f6-4a5a-8249-da86c6744d2b",
   "metadata": {},
   "outputs": [
    {
     "name": "stdout",
     "output_type": "stream",
     "text": [
      "Found a match!\n",
      "Found a match!\n"
     ]
    }
   ],
   "source": [
    "import re\n",
    "def text_match(text):\n",
    "        patterns = 'ab+?'\n",
    "        if re.search(patterns,  text):\n",
    "                return 'Found a match!'\n",
    "        else:\n",
    "                return('Not matched!')\n",
    "\n",
    "print(text_match(\"ab\"))\n",
    "print(text_match(\"abc\"))\n"
   ]
  },
  {
   "cell_type": "code",
   "execution_count": null,
   "id": "017f47cd-7b1d-4774-b8f2-344ffeb633da",
   "metadata": {},
   "outputs": [],
   "source": [
    "## 4- Write a RegEx pattern that matches a string that has an a followed by zero or one'b' ."
   ]
  },
  {
   "cell_type": "code",
   "execution_count": 4,
   "id": "2d5eeba7-360c-48cb-b9cf-c858fe65f823",
   "metadata": {},
   "outputs": [
    {
     "name": "stdout",
     "output_type": "stream",
     "text": [
      "Not matched!\n",
      "Not matched!\n",
      "Found a match!\n",
      "Found a match!\n",
      "Found a match!\n"
     ]
    }
   ],
   "source": [
    "import re\n",
    "def text_match(text):\n",
    "        patterns = '^a(b*)$'\n",
    "        if re.search(patterns,  text):\n",
    "                return 'Found a match!'\n",
    "        else:\n",
    "                return('Not matched!')\n",
    "print(text_match(\"ac\"))\n",
    "print(text_match(\"abc\"))\n",
    "print(text_match(\"a\"))\n",
    "print(text_match(\"ab\"))\n",
    "print(text_match(\"abb\"))\n"
   ]
  },
  {
   "cell_type": "code",
   "execution_count": null,
   "id": "43a8ecf7-699d-4ac9-b808-eb2acde5a86d",
   "metadata": {},
   "outputs": [],
   "source": [
    "##5- Write a RegEx pattern in python program that matches a string that has an a followed by\n",
    "three 'b'."
   ]
  },
  {
   "cell_type": "code",
   "execution_count": 5,
   "id": "0cab8f86-e1df-4e59-92b7-0a1a1d8a3444",
   "metadata": {},
   "outputs": [
    {
     "name": "stdout",
     "output_type": "stream",
     "text": [
      "Found a match!\n",
      "Found a match!\n"
     ]
    }
   ],
   "source": [
    "import re\n",
    "def text_match(text):\n",
    "        patterns = 'ab{3}?'\n",
    "        if re.search(patterns,  text):\n",
    "                return 'Found a match!'\n",
    "        else:\n",
    "                return('Not matched!')\n",
    "\n",
    "print(text_match(\"abbb\"))\n",
    "print(text_match(\"aabbbbbc\"))\n"
   ]
  },
  {
   "cell_type": "code",
   "execution_count": null,
   "id": "ff0f5220-cb32-4aa9-8416-30b05a7eea67",
   "metadata": {},
   "outputs": [],
   "source": [
    "##6- Write a RegEx pattern in python program that matches a string that has an a followed by\n",
    "two to three'b'."
   ]
  },
  {
   "cell_type": "code",
   "execution_count": 6,
   "id": "1f0d7ace-6008-43e5-b5f5-1317ab5ee01e",
   "metadata": {},
   "outputs": [
    {
     "name": "stdout",
     "output_type": "stream",
     "text": [
      "Not matched!\n",
      "Found a match!\n"
     ]
    }
   ],
   "source": [
    "import re\n",
    "def text_match(text):\n",
    "        patterns = 'ab{2,3}'\n",
    "        if re.search(patterns,  text):\n",
    "                return 'Found a match!'\n",
    "        else:\n",
    "                return('Not matched!')\n",
    "print(text_match(\"ab\"))\n",
    "print(text_match(\"aabbbbbc\"))\n"
   ]
  },
  {
   "cell_type": "code",
   "execution_count": null,
   "id": "fa3d4601-eba0-4482-bd77-5a79b9b15953",
   "metadata": {},
   "outputs": [],
   "source": [
    "## 7- Write a Python program that matches a string that has an \"a' followed by anything, ending in\n",
    "'b'"
   ]
  },
  {
   "cell_type": "code",
   "execution_count": 7,
   "id": "a2c26fd2-f63c-4b4f-9871-a4c042595756",
   "metadata": {},
   "outputs": [
    {
     "name": "stdout",
     "output_type": "stream",
     "text": [
      "Not matched!\n",
      "Not matched!\n",
      "Found a match!\n"
     ]
    }
   ],
   "source": [
    "import re\n",
    "def text_match(text):\n",
    "        patterns = 'a.*?b$'\n",
    "        if re.search(patterns,  text):\n",
    "                return 'Found a match!'\n",
    "        else:\n",
    "                return('Not matched!')\n",
    "\n",
    "print(text_match(\"aabbbbd\"))\n",
    "print(text_match(\"aabAbbbc\"))\n",
    "print(text_match(\"accddbbjjjb\"))\n"
   ]
  },
  {
   "cell_type": "code",
   "execution_count": null,
   "id": "35a2a75c-91e2-4b73-a631-3641fc330c95",
   "metadata": {},
   "outputs": [],
   "source": [
    "##8- Write a RegEx pattern in python program that matches a word at the beginning of a string."
   ]
  },
  {
   "cell_type": "code",
   "execution_count": null,
   "id": "0774d7c0-5ca9-4fb2-b7a1-18159449c063",
   "metadata": {},
   "outputs": [],
   "source": [
    "import re\n",
    "def text_match(text):\n",
    "        patterns = '^\\w+'\n",
    "        if re.search(patterns,  text):\n",
    "                return 'Found a match!'\n",
    "        else:\n",
    "                return('Not matched!')\n",
    "\n",
    "print(text_match(\"The quick brown fox jumps over the lazy dog.\"))\n",
    "print(text_match(\" The quick brown fox jumps over the lazy dog.\"))\n"
   ]
  },
  {
   "cell_type": "code",
   "execution_count": null,
   "id": "57522cfa-71c2-4e67-a1fe-2dc55317bb81",
   "metadata": {},
   "outputs": [],
   "source": [
    "##9- Write a RegEx pattern in python program that matches a word at the end of a string."
   ]
  },
  {
   "cell_type": "code",
   "execution_count": 8,
   "id": "eb895148-3dbd-431a-af43-962d18524865",
   "metadata": {},
   "outputs": [
    {
     "name": "stdout",
     "output_type": "stream",
     "text": [
      "Found a match!\n",
      "Not matched!\n",
      "Not matched!\n"
     ]
    }
   ],
   "source": [
    "import re\n",
    "def text_match(text):\n",
    "        patterns = '\\w+\\S*$'\n",
    "        if re.search(patterns,  text):\n",
    "                return 'Found a match!'\n",
    "        else:\n",
    "                return('Not matched!')\n",
    "\n",
    "print(text_match(\"The brown fox jumps over the dog.\"))\n",
    "print(text_match(\"The brown fox jumps over the dog.\"))\n",
    "print(text_match(\"The brown fox jumps over the dog.\"))\n"
   ]
  },
  {
   "cell_type": "code",
   "execution_count": null,
   "id": "be61481c-e059-428b-a17d-6868602883c2",
   "metadata": {},
   "outputs": [],
   "source": [
    "##10-Write a RegEx pattern in python program to find all words that are 4 digits long in a string."
   ]
  },
  {
   "cell_type": "code",
   "execution_count": 10,
   "id": "b0cef6e8-2d73-4dd0-98f9-08ad4337c9bd",
   "metadata": {},
   "outputs": [
    {
     "name": "stdout",
     "output_type": "stream",
     "text": [
      "['0132', '231875', '1458', '2725']\n"
     ]
    }
   ],
   "source": [
    "import re\n",
    "text = '01 0132 231875 1458 301 2725.'\n",
    "print(re.findall(r\"\\b\\w{4,}\\b\", text))\n"
   ]
  },
  {
   "cell_type": "code",
   "execution_count": null,
   "id": "49d3c493-3c1a-42a3-ba9a-a30b61f6bcf5",
   "metadata": {},
   "outputs": [],
   "source": []
  }
 ],
 "metadata": {
  "kernelspec": {
   "display_name": "Python 3 (ipykernel)",
   "language": "python",
   "name": "python3"
  },
  "language_info": {
   "codemirror_mode": {
    "name": "ipython",
    "version": 3
   },
   "file_extension": ".py",
   "mimetype": "text/x-python",
   "name": "python",
   "nbconvert_exporter": "python",
   "pygments_lexer": "ipython3",
   "version": "3.10.9"
  }
 },
 "nbformat": 4,
 "nbformat_minor": 5
}
